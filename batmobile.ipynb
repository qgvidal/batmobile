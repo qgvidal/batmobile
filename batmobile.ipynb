{
 "cells": [
  {
   "cell_type": "markdown",
   "metadata": {},
   "source": [
    "# OBJECT ORIENTED PROGRAMMING: BATMOBILE EXAMPLE"
   ]
  },
  {
   "cell_type": "markdown",
   "metadata": {},
   "source": [
    "In this notebook we will solve an exercise proposed in the Master in AI and Advanced Analytics (IDAL, UV). A useful and creative aproximation on how to apply object oriented programming"
   ]
  },
  {
   "cell_type": "markdown",
   "metadata": {},
   "source": [
    "##### Hi Guys Cristopher Nolan is here. Don't talk about this, but I am making a new Batman movie and I need your help to design the new Batmobile. For this ocassion I would like you to design it as several Python Classes.\n",
    "##### - Design the main Batmobile class with the following attributes: Pilot (It could be Batman or Robin), number of batrockets loaded, number of pem (this are electromagnetic pulses to counter the Joker weapons) uses left, liters of gas left in the batmobile\n",
    "##### - Add the following methods to the Batmobile class: A method to accelerate the batmobile and drive for some distance, a method to activate the turbo and drive for some distance faster than the normal method, a method to launch a rocket to a Joker colleague, a method to launch a pem use.\n",
    "##### - Create the following classes to interact with the Batmobile: Joker, Joker Villain, Rocket, PEM Pulse.\n",
    "##### - The Joker and Jokker Villain class should have a parameter called KO which will turn to True when they receive a Rocket. They also have a parameter called Weapon which should turn to false if they receive a PEM Pulse. \n",
    "##### - The Rocket and PEM Pulse are the ammunition of the Batmobile, the car can only use the weapons if it has ammunition in the arsenal.\n",
    "##### - Finally draw a diagram of the classes using diagram.io showing how they interact."
   ]
  },
  {
   "cell_type": "markdown",
   "metadata": {},
   "source": [
    "First thing, as always, is importing libraries we will use. In this case, just numpy for array treatment"
   ]
  },
  {
   "cell_type": "code",
   "execution_count": 1,
   "metadata": {},
   "outputs": [],
   "source": [
    "import numpy as np"
   ]
  },
  {
   "cell_type": "markdown",
   "metadata": {},
   "source": [
    "### CLASS DEFINITION "
   ]
  },
  {
   "cell_type": "markdown",
   "metadata": {},
   "source": [
    "Next step is defining the Batmobile class. In this case, the attributes given in this class will be the pilot, number of batrockets (n_batrockets), number of PEM pulses (n_pem), and de liters of gas. \n",
    "\n",
    "The idea main idea is playing against the Joker and Joker Villain and we defined that the game will end (lossing) in case we run out of ammunition or gas and winning in case we kill both the villain and the joker. \n",
    "\n",
    "Having this idea on mind we define few methods: accelerate (that will decrease gas in one unit each round) or turboActivation (that will decrease gas in three units each round), launchRocket (that will decrease number of rocket ammunition) and launchPEM (that will decrease number of PEM ammunition)"
   ]
  },
  {
   "cell_type": "code",
   "execution_count": 2,
   "metadata": {},
   "outputs": [],
   "source": [
    "class Batmobile:\n",
    "    def __init__(self, pilot, n_batrockets, n_pem, l_gas):\n",
    "        self.pilot = pilot\n",
    "        self.n_batrockets = n_batrockets\n",
    "        self.n_pem = n_pem\n",
    "        self.l_gas = l_gas\n",
    "  \n",
    "    def accelerate(self):\n",
    "        self.l_gas -= 1\n",
    "    def turboActivation(self):\n",
    "        self.l_gas -= 3\n",
    "        \n",
    "    def launchRocket(self):\n",
    "        if self.n_batrockets > 0:\n",
    "\n",
    "            self.n_batrockets -= 1\n",
    "        else:\n",
    "            print(\"No batrockets ammunition left!!!!\")\n",
    "\n",
    "    def launchPEM(self):\n",
    "        if self.n_pem > 0:\n",
    "            print(self.n_pem)\n",
    "            self.n_pem -= 1\n",
    "          #restar un pem\n",
    "        else:\n",
    "            print(\"No PEM ammunition left!!!!\")\n"
   ]
  },
  {
   "cell_type": "markdown",
   "metadata": {},
   "source": [
    "Also, we should define two classes for Jokers (Joker and JokerVillain) with ko and weapon attributes. At the beginning both of them will be False, but the idea for winning the game is turn them to True"
   ]
  },
  {
   "cell_type": "code",
   "execution_count": 3,
   "metadata": {},
   "outputs": [],
   "source": [
    "class Joker:\n",
    "    def __init__(self):\n",
    "        self.ko = False\n",
    "        self.weapon = False"
   ]
  },
  {
   "cell_type": "code",
   "execution_count": 4,
   "metadata": {},
   "outputs": [],
   "source": [
    "class JokerVillain:\n",
    "    def __init__(self):\n",
    "        self.ko = False\n",
    "        self.weapon = False"
   ]
  },
  {
   "cell_type": "markdown",
   "metadata": {},
   "source": [
    "Finally we define Rocket and PEMPulse classes with the attributes turbo and impact. The method impact will define if we hit a Joker or not. The probability of hitting a Joker is bigger in case you use turbo (but will decrease quicker your gas!)"
   ]
  },
  {
   "cell_type": "code",
   "execution_count": 5,
   "metadata": {},
   "outputs": [],
   "source": [
    "class Rocket:\n",
    "    def __init__(self):\n",
    "        self.turbo = \"No\"\n",
    "        self.impact = False\n",
    "    def Impact(self):\n",
    "        impacto = np.random.randint(0,10)\n",
    "        if self.turbo == \"Yes\":\n",
    "            if impacto <=8:\n",
    "                self.impact = True\n",
    "        else:\n",
    "            if impacto <= 4:\n",
    "                self.impact = True"
   ]
  },
  {
   "cell_type": "code",
   "execution_count": 6,
   "metadata": {},
   "outputs": [],
   "source": [
    "class PEMPulse:\n",
    "    def __init__(self):\n",
    "        self.turbo = \"No\"\n",
    "        self.impact = False\n",
    "    def Impact(self):\n",
    "        impacto = np.random.randint(0,10)\n",
    "        if self.turbo == \"Yes\":\n",
    "            if impacto <=8:\n",
    "                self.impact = True\n",
    "        else:\n",
    "            if impacto <= 4:\n",
    "                self.impact = True"
   ]
  },
  {
   "cell_type": "markdown",
   "metadata": {},
   "source": [
    "### LET'S PLAY!"
   ]
  },
  {
   "cell_type": "markdown",
   "metadata": {},
   "source": [
    "The game will start asking the player for a pilot, ammunition of rockets and PEM and also the gasoline:"
   ]
  },
  {
   "cell_type": "code",
   "execution_count": 7,
   "metadata": {},
   "outputs": [
    {
     "name": "stdout",
     "output_type": "stream",
     "text": [
      "Insert a pilot:Batman\n",
      "Insert number of rockets:10\n",
      "Insert number of PEM:8\n",
      "Insert gasoline:10\n"
     ]
    }
   ],
   "source": [
    "pilot = input(\"Insert a pilot:\")\n",
    "n_batrockets = int(input(\"Insert number of rockets:\"))\n",
    "n_pem = int(input(\"Insert number of PEM:\"))\n",
    "l_gas = int(input(\"Insert gasoline:\"))"
   ]
  },
  {
   "cell_type": "markdown",
   "metadata": {},
   "source": [
    "Then, we will create the different classes:"
   ]
  },
  {
   "cell_type": "code",
   "execution_count": 8,
   "metadata": {},
   "outputs": [],
   "source": [
    "batmovil = Batmobile(pilot,n_batrockets, n_pem,l_gas)\n",
    "joker = Joker()\n",
    "jokerVillain = JokerVillain()\n",
    "pem = PEMPulse()\n",
    "rocket = Rocket()"
   ]
  },
  {
   "cell_type": "markdown",
   "metadata": {},
   "source": [
    "And the game starts...\n",
    "\n",
    "For every round you will see the ammunition and gas left, and also the life of Joker and JokerVillain."
   ]
  },
  {
   "cell_type": "code",
   "execution_count": 9,
   "metadata": {},
   "outputs": [
    {
     "name": "stdout",
     "output_type": "stream",
     "text": [
      "#################\n",
      "#### ROUND 1 ####\n",
      "#################\n",
      "Who do you want to attack? Joker\n",
      "What weapon do you want to attack with? PEM\n",
      "Would you like to use turbo? 10\n",
      "8\n",
      "Joker wasn't intercepted!\n",
      " \n",
      "SUMMARY: \n",
      "Gas: 9\n",
      "Batrocket: 10\n",
      "PEM: 7\n",
      " \n",
      "Joker. KO: False. Weapon: False\n",
      "Joker Villain. KO: False. Weapon: False\n",
      " \n",
      "#################\n",
      "#### ROUND 2 ####\n",
      "#################\n",
      "Who do you want to attack? Joker\n",
      "What weapon do you want to attack with? PEM\n",
      "Would you like to use turbo? Yes\n",
      "7\n",
      "Joker wasn't intercepted!\n",
      " \n",
      "SUMMARY: \n",
      "Gas: 6\n",
      "Batrocket: 10\n",
      "PEM: 6\n",
      " \n",
      "Joker. KO: False. Weapon: True\n",
      "Joker Villain. KO: False. Weapon: False\n",
      " \n",
      "#################\n",
      "#### ROUND 3 ####\n",
      "#################\n",
      "Who do you want to attack? Joker\n",
      "What weapon do you want to attack with? Batrocket\n",
      "Would you like to use turbo? Yes\n",
      "Rocket intercepts Jocker\n",
      " \n",
      "SUMMARY: \n",
      "Gas: 3\n",
      "Batrocket: 9\n",
      "PEM: 6\n",
      " \n",
      "Joker. KO: True. Weapon: True\n",
      "Joker Villain. KO: False. Weapon: False\n",
      " \n",
      "#################\n",
      "#### ROUND 4 ####\n",
      "#################\n",
      "Who do you want to attack? Joker Villain\n",
      "What weapon do you want to attack with? PEM\n",
      "Would you like to use turbo? No\n",
      "6\n",
      "PEM intercepts Villano\n",
      " \n",
      "SUMMARY: \n",
      "Gas: 2\n",
      "Batrocket: 9\n",
      "PEM: 5\n",
      " \n",
      "Joker. KO: True. Weapon: True\n",
      "Joker Villain. KO: False. Weapon: True\n",
      " \n",
      "#################\n",
      "#### ROUND 5 ####\n",
      "#################\n",
      "Who do you want to attack? Joker Villain\n",
      "What weapon do you want to attack with? Batrocket\n",
      "Would you like to use turbo? No\n",
      "Rocket intercepts villian\n",
      " \n",
      "SUMMARY: \n",
      "Gas: 1\n",
      "Batrocket: 8\n",
      "PEM: 5\n",
      " \n",
      "Joker. KO: True. Weapon: True\n",
      "Joker Villain. KO: True. Weapon: True\n",
      "CONGRATULATIONS, YOU HAVE ENDED UP WITH JOCKERS!\n"
     ]
    }
   ],
   "source": [
    "i = 0\n",
    "while True: \n",
    "    i+=1\n",
    "    print(\"#################\")\n",
    "    print(f\"#### ROUND {i} ####\")\n",
    "    print(\"#################\")\n",
    "    enemigo = input(\"Who do you want to attack? \")\n",
    "    arma = input(\"What weapon do you want to attack with? \")\n",
    "    turbo = input(\"Would you like to use turbo? \")\n",
    "    \n",
    "    #Turbo\n",
    "    if turbo == \"Yes\":\n",
    "        batmovil.turboActivation()\n",
    "        l_gas = batmovil.l_gas\n",
    "        \n",
    "    else:\n",
    "        batmovil.accelerate()\n",
    "        l_gas = batmovil.l_gas\n",
    "    \n",
    "    #Arma y enemigo\n",
    "    if arma == \"Batrocket\" and enemigo == \"Joker\":\n",
    "        batmovil.launchRocket()\n",
    "        rocket.turbo = turbo\n",
    "        rocket.Impact()\n",
    "        joker.ko = rocket.impact\n",
    "        \n",
    "        if rocket.impact == True:\n",
    "            print(\"Rocket intercepts Jocker\")\n",
    "        else:\n",
    "            print(\"Joker wasn't intercepted!\")\n",
    "    \n",
    "    elif arma == \"Batrocket\" and enemigo == \"Joker Villain\":\n",
    "        batmovil.launchRocket()\n",
    "        rocket.turbo = turbo\n",
    "        rocket.Impact()\n",
    "        jokerVillain.ko = rocket.impact\n",
    "        \n",
    "        if rocket.impact == True:\n",
    "            print(\"Rocket intercepts villian\")\n",
    "        else:\n",
    "            print(\"Villain wasn't intercepted!\")\n",
    "        \n",
    "    elif arma == \"PEM\" and enemigo == \"Joker\":\n",
    "        batmovil.launchPEM()\n",
    "        pem.turbo = turbo\n",
    "        pem.Impact()\n",
    "        joker.weapon = pem.impact\n",
    "        \n",
    "        if rocket.impact == True:\n",
    "            print(\"PEM intercepts Jocker\")\n",
    "        else:\n",
    "            print(\"Joker wasn't intercepted!\")\n",
    "    \n",
    "    elif arma == \"PEM\" and enemigo == \"Joker Villain\":\n",
    "        batmovil.launchPEM()\n",
    "        pem.turbo = turbo\n",
    "        pem.Impact()\n",
    "        jokerVillain.weapon = pem.impact\n",
    "        \n",
    "        if rocket.impact == True:\n",
    "            print(\"PEM intercepts Villano\")\n",
    "        else:\n",
    "            print(\"Villain wasn't intercepted!\")\n",
    "    else:\n",
    "        print(\"It seems a weapon or joker were introduced wrong. Try again\") \n",
    "    \n",
    "    print(\" \")\n",
    "    print(\"SUMMARY: \")\n",
    "    print(f\"Gas: {l_gas}\")\n",
    "    print(f\"Batrocket: {batmovil.n_batrockets}\")\n",
    "    print(f\"PEM: {batmovil.n_pem}\")\n",
    "    print(\" \")\n",
    "    print(f\"Joker. KO: {joker.ko}. Weapon: {joker.weapon}\")\n",
    "    print(f\"Joker Villain. KO: {jokerVillain.ko}. Weapon: {jokerVillain.weapon}\")\n",
    "    \n",
    "    if (joker.ko == True and joker.weapon == True) and (jokerVillain.ko == True and jokerVillain.weapon == True):\n",
    "        print(\"CONGRATULATIONS, YOU HAVE ENDED UP WITH JOCKERS!\")\n",
    "        break\n",
    "    if batmovil.l_gas <=0 or batmovil.n_batrockets <= 0 or batmovil.n_pem <= 0:\n",
    "        print(\"WOOOW YOU HAVE BEEN DEFEATED!!\")\n",
    "        break\n",
    "    print(\" \")\n"
   ]
  }
 ],
 "metadata": {
  "kernelspec": {
   "display_name": "Python 3",
   "language": "python",
   "name": "python3"
  },
  "language_info": {
   "codemirror_mode": {
    "name": "ipython",
    "version": 3
   },
   "file_extension": ".py",
   "mimetype": "text/x-python",
   "name": "python",
   "nbconvert_exporter": "python",
   "pygments_lexer": "ipython3",
   "version": "3.7.3"
  }
 },
 "nbformat": 4,
 "nbformat_minor": 2
}
